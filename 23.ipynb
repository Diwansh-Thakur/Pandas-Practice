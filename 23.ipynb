{
 "cells": [
  {
   "cell_type": "markdown",
   "id": "e1f8d2da",
   "metadata": {},
   "source": [
    "Asynchronous scraing"
   ]
  },
  {
   "cell_type": "code",
   "execution_count": 1,
   "id": "5cb4bbfe",
   "metadata": {},
   "outputs": [
    {
     "name": "stdout",
     "output_type": "stream",
     "text": [
      "Collecting aiohttp\n",
      "  Downloading aiohttp-3.12.7-cp313-cp313-win_amd64.whl.metadata (7.9 kB)\n",
      "Collecting aiohappyeyeballs>=2.5.0 (from aiohttp)\n",
      "  Downloading aiohappyeyeballs-2.6.1-py3-none-any.whl.metadata (5.9 kB)\n",
      "Collecting aiosignal>=1.1.2 (from aiohttp)\n",
      "  Downloading aiosignal-1.3.2-py2.py3-none-any.whl.metadata (3.8 kB)\n",
      "Collecting attrs>=17.3.0 (from aiohttp)\n",
      "  Downloading attrs-25.3.0-py3-none-any.whl.metadata (10 kB)\n",
      "Collecting frozenlist>=1.1.1 (from aiohttp)\n",
      "  Downloading frozenlist-1.6.0-cp313-cp313-win_amd64.whl.metadata (16 kB)\n",
      "Collecting multidict<7.0,>=4.5 (from aiohttp)\n",
      "  Downloading multidict-6.4.4-cp313-cp313-win_amd64.whl.metadata (5.5 kB)\n",
      "Collecting propcache>=0.2.0 (from aiohttp)\n",
      "  Downloading propcache-0.3.1-cp313-cp313-win_amd64.whl.metadata (11 kB)\n",
      "Collecting yarl<2.0,>=1.17.0 (from aiohttp)\n",
      "  Downloading yarl-1.20.0-cp313-cp313-win_amd64.whl.metadata (74 kB)\n",
      "Requirement already satisfied: idna>=2.0 in c:\\users\\dell\\desktop\\numpy\\.venv\\lib\\site-packages (from yarl<2.0,>=1.17.0->aiohttp) (3.10)\n",
      "Downloading aiohttp-3.12.7-cp313-cp313-win_amd64.whl (444 kB)\n",
      "Downloading multidict-6.4.4-cp313-cp313-win_amd64.whl (38 kB)\n",
      "Downloading yarl-1.20.0-cp313-cp313-win_amd64.whl (92 kB)\n",
      "Downloading aiohappyeyeballs-2.6.1-py3-none-any.whl (15 kB)\n",
      "Downloading aiosignal-1.3.2-py2.py3-none-any.whl (7.6 kB)\n",
      "Downloading attrs-25.3.0-py3-none-any.whl (63 kB)\n",
      "Downloading frozenlist-1.6.0-cp313-cp313-win_amd64.whl (119 kB)\n",
      "Downloading propcache-0.3.1-cp313-cp313-win_amd64.whl (44 kB)\n",
      "Installing collected packages: propcache, multidict, frozenlist, attrs, aiohappyeyeballs, yarl, aiosignal, aiohttp\n",
      "\n",
      "   ---------------------------------------- 0/8 [propcache]\n",
      "   ----- ---------------------------------- 1/8 [multidict]\n",
      "   ----- ---------------------------------- 1/8 [multidict]\n",
      "   ---------- ----------------------------- 2/8 [frozenlist]\n",
      "   ---------- ----------------------------- 2/8 [frozenlist]\n",
      "   --------------- ------------------------ 3/8 [attrs]\n",
      "   --------------- ------------------------ 3/8 [attrs]\n",
      "   --------------- ------------------------ 3/8 [attrs]\n",
      "   -------------------- ------------------- 4/8 [aiohappyeyeballs]\n",
      "   -------------------- ------------------- 4/8 [aiohappyeyeballs]\n",
      "   ------------------------- -------------- 5/8 [yarl]\n",
      "   ------------------------- -------------- 5/8 [yarl]\n",
      "   ------------------------------ --------- 6/8 [aiosignal]\n",
      "   ----------------------------------- ---- 7/8 [aiohttp]\n",
      "   ----------------------------------- ---- 7/8 [aiohttp]\n",
      "   ----------------------------------- ---- 7/8 [aiohttp]\n",
      "   ----------------------------------- ---- 7/8 [aiohttp]\n",
      "   ----------------------------------- ---- 7/8 [aiohttp]\n",
      "   ----------------------------------- ---- 7/8 [aiohttp]\n",
      "   ----------------------------------- ---- 7/8 [aiohttp]\n",
      "   ----------------------------------- ---- 7/8 [aiohttp]\n",
      "   ----------------------------------- ---- 7/8 [aiohttp]\n",
      "   ----------------------------------- ---- 7/8 [aiohttp]\n",
      "   ----------------------------------- ---- 7/8 [aiohttp]\n",
      "   ----------------------------------- ---- 7/8 [aiohttp]\n",
      "   ---------------------------------------- 8/8 [aiohttp]\n",
      "\n",
      "Successfully installed aiohappyeyeballs-2.6.1 aiohttp-3.12.7 aiosignal-1.3.2 attrs-25.3.0 frozenlist-1.6.0 multidict-6.4.4 propcache-0.3.1 yarl-1.20.0\n",
      "Note: you may need to restart the kernel to use updated packages.\n"
     ]
    }
   ],
   "source": [
    "pip install aiohttp"
   ]
  },
  {
   "cell_type": "code",
   "execution_count": 2,
   "id": "92a1cb55",
   "metadata": {},
   "outputs": [
    {
     "name": "stdout",
     "output_type": "stream",
     "text": [
      "Collecting asyncio\n",
      "  Downloading asyncio-3.4.3-py3-none-any.whl.metadata (1.7 kB)\n",
      "Downloading asyncio-3.4.3-py3-none-any.whl (101 kB)\n",
      "Installing collected packages: asyncio\n",
      "Successfully installed asyncio-3.4.3\n",
      "Note: you may need to restart the kernel to use updated packages.\n"
     ]
    }
   ],
   "source": [
    "pip install asyncio"
   ]
  },
  {
   "cell_type": "code",
   "execution_count": 4,
   "id": "13896777",
   "metadata": {},
   "outputs": [],
   "source": [
    "import aiohttp\n",
    "import asyncio\n",
    "from bs4 import BeautifulSoup\n",
    "import csv\n",
    "import re"
   ]
  },
  {
   "cell_type": "code",
   "execution_count": 5,
   "id": "d5edadce",
   "metadata": {},
   "outputs": [
    {
     "name": "stdout",
     "output_type": "stream",
     "text": [
      "Requirement already satisfied: nest-asyncio in c:\\users\\dell\\desktop\\numpy\\.venv\\lib\\site-packages (1.6.0)\n"
     ]
    }
   ],
   "source": [
    "!pip install nest-asyncio\n",
    "import nest_asyncio\n",
    "nest_asyncio.apply()"
   ]
  },
  {
   "cell_type": "code",
   "execution_count": 16,
   "id": "d9b5cdf4",
   "metadata": {},
   "outputs": [],
   "source": [
    "async def scrap_and_save_links(text):\n",
    "    soup = BeautifulSoup(text,'html.parser')\n",
    "    file = open('csv_file','a',newline='')\n",
    "    writer = csv.writer(file,delimiter=',')\n",
    "    for link in soup.findAll('a',attrs={'href':re.compile('^http')}):\n",
    "        link = link.get('href')\n",
    "        writer.writerow([link])\n",
    "    file.close()"
   ]
  },
  {
   "cell_type": "code",
   "execution_count": 9,
   "id": "eb8b437b",
   "metadata": {},
   "outputs": [],
   "source": [
    "async def fetch(session,url):\n",
    "    try:\n",
    "        async with session.get(url) as response:\n",
    "            text = await response.text()\n",
    "            task = asyncio.create_task(scrap_and_save_links(text))\n",
    "            await task\n",
    "    except Exception as e :\n",
    "        print(str(e))"
   ]
  },
  {
   "cell_type": "code",
   "execution_count": 19,
   "id": "c14bf0c4",
   "metadata": {},
   "outputs": [],
   "source": [
    "async def scrap(urls):\n",
    "    tasks = []\n",
    "    async with aiohttp.ClientSession() as session:\n",
    "        for url in urls:\n",
    "            tasks.append(fetch(session,url))\n",
    "        await asyncio.gather(*tasks)"
   ]
  },
  {
   "cell_type": "code",
   "execution_count": 20,
   "id": "8b615e0a",
   "metadata": {},
   "outputs": [
    {
     "name": "stderr",
     "output_type": "stream",
     "text": [
      "C:\\Users\\DELL\\AppData\\Local\\Temp\\ipykernel_5912\\2673799427.py:5: DeprecationWarning: Call to deprecated method findAll. (Replaced by find_all) -- Deprecated since version 4.0.0.\n",
      "  for link in soup.findAll('a',attrs={'href':re.compile('^http')}):\n"
     ]
    }
   ],
   "source": [
    "urls = ['https://analytics.usa.gov/','https://www.python.org/','https://www.linkedin.com/']\n",
    "asyncio.run(scrap(urls=urls))"
   ]
  }
 ],
 "metadata": {
  "kernelspec": {
   "display_name": ".venv",
   "language": "python",
   "name": "python3"
  },
  "language_info": {
   "codemirror_mode": {
    "name": "ipython",
    "version": 3
   },
   "file_extension": ".py",
   "mimetype": "text/x-python",
   "name": "python",
   "nbconvert_exporter": "python",
   "pygments_lexer": "ipython3",
   "version": "3.13.2"
  }
 },
 "nbformat": 4,
 "nbformat_minor": 5
}
