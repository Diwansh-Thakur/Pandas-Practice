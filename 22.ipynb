{
 "cells": [
  {
   "cell_type": "markdown",
   "id": "83b65dad",
   "metadata": {},
   "source": [
    "Web scraping"
   ]
  },
  {
   "cell_type": "code",
   "execution_count": 1,
   "id": "7e577d48",
   "metadata": {},
   "outputs": [],
   "source": [
    "from bs4 import BeautifulSoup\n",
    "import urllib.request\n",
    "from IPython.display import HTML\n",
    "import re"
   ]
  },
  {
   "cell_type": "code",
   "execution_count": 2,
   "id": "4c82a7a7",
   "metadata": {},
   "outputs": [
    {
     "data": {
      "text/plain": [
       "bs4.BeautifulSoup"
      ]
     },
     "execution_count": 2,
     "metadata": {},
     "output_type": "execute_result"
    }
   ],
   "source": [
    "r = urllib.request.urlopen('https://analytics.usa.gov').read()\n",
    "soup = BeautifulSoup(r,'html.parser')\n",
    "type(soup)"
   ]
  },
  {
   "cell_type": "markdown",
   "id": "1b256ea3",
   "metadata": {},
   "source": [
    "Scraping a webpage and saving your results"
   ]
  },
  {
   "cell_type": "code",
   "execution_count": 3,
   "id": "2378e9a4",
   "metadata": {},
   "outputs": [
    {
     "name": "stdout",
     "output_type": "stream",
     "text": [
      "<!DOCTYPE html>\n",
      "<html lang=\"en\">\n",
      " <!-- Initalize title and data source variables -->\n",
      " <head>\n",
      "  <!--\n",
      "\n"
     ]
    }
   ],
   "source": [
    "print(soup.prettify()[:100])"
   ]
  },
  {
   "cell_type": "code",
   "execution_count": 4,
   "id": "d9ecb5f4",
   "metadata": {},
   "outputs": [
    {
     "name": "stdout",
     "output_type": "stream",
     "text": [
      "/\n",
      "/about\n",
      "/definitions\n",
      "https://open.gsa.gov/api/dap/\n",
      "/visualizations\n",
      "/data\n"
     ]
    }
   ],
   "source": [
    "for link in soup.find_all('a'):\n",
    "    print(link.get('href'))"
   ]
  },
  {
   "cell_type": "code",
   "execution_count": 5,
   "id": "983db8bb",
   "metadata": {},
   "outputs": [
    {
     "name": "stdout",
     "output_type": "stream",
     "text": [
      "<bound method PageElement.get_text of <!DOCTYPE html>\n",
      "\n",
      "<html lang=\"en\">\n",
      "<!-- Initalize title and data source variables -->\n",
      "<head>\n",
      "<!--\n",
      "\n",
      "    Hi! Welcome to our source code.\n",
      "\n",
      "    This dashboard uses data from the Digital Analytics Program, a US\n",
      "    government team inside the General Services Administration.\n",
      "\n",
      "\n",
      "    For a detailed tech breakdown of how 18F and friends built this site:\n",
      "\n",
      "    https://18f.gsa.gov/2015/03/19/how-we-built-analytics-usa-gov/\n",
      "\n",
      "\n",
      "    This is a fully open source project, and your contributions are welcome.\n",
      "\n",
      "    Frontend static site: https://github.com/18F/analytics.usa.gov\n",
      "    Backend data reporting: https://github.com/18F/analytics-reporter\n",
      "\n",
      "    -->\n",
      "<meta charset=\"utf-8\"/>\n",
      "<meta content=\"width=device-width, initial-scale=1\" name=\"viewport\"/>\n",
      "<meta content=\"IE=Edge\" http-equiv=\"X-UA-Compatible\"/>\n",
      "<meta content=\"3M4CQMJIt6qoilByli-rZfUFU6ET-No8gF12dAQFPfc\" name=\"google-site-verification\"/>\n",
      "<link href=\"/css/styles.css\" rel=\"stylesheet\"/>\n",
      "<link href=\"/images/analytics-favicon.ico\" rel=\"icon\" type=\"image/x-icon\"/>\n",
      "<meta content=\"@usgsa\" name=\"twitter:site\"/>\n",
      "<meta content=\"@usgsa\" name=\"twitter:creator\"/>\n",
      "<meta content=\"website\" property=\"og:type\"/>\n",
      "<meta content=\"https://analytics.usa.gov\" property=\"og:url\"/>\n",
      "<link href=\"https://analytics.usa.gov\" rel=\"canonical\"/>\n",
      "<title>analytics.usa.gov | The US government's web traffic.</title>\n",
      "<meta content=\"analytics.usa.gov | The US government's web traffic.\" property=\"og:title\"/>\n",
      "<meta content=\"analytics.usa.gov | The US government's web traffic.\" property=\"og:site_name\"/>\n",
      "<meta content=\"Official data on web traffic to thousands of US federal government websites. Published by the Digital Analytics Program.\" name=\"description\"/>\n",
      "<meta content=\"Official data on web traffic to thousands of US federal government websites. Published by the Digital Analytics Program.\" property=\"og:description\"/>\n",
      "<meta content=\"summary_large_image\" name=\"twitter:card\"/>\n",
      "<meta content=\"https://analytics.usa.gov/images/share-image.png\" property=\"og:image\"/>\n",
      "<script async=\"\" src=\"/assets/uswds/js/uswds-init.min.js\" type=\"text/javascript\"></script>\n",
      "</head>\n",
      "<body>\n",
      "<section aria-label=\"Official website of the United States government\" class=\"usa-banner\">\n",
      "<div class=\"usa-accordion\">\n",
      "<header class=\"usa-banner__header\">\n",
      "<div class=\"usa-banner__inner\">\n",
      "<div class=\"grid-col-auto\">\n",
      "<img alt=\"\" aria-hidden=\"true\" class=\"usa-banner__header-flag\" src=\"/assets/uswds/img/us_flag_small.png\"/>\n",
      "</div>\n",
      "<div aria-hidden=\"true\" class=\"grid-col-fill tablet:grid-col-auto\">\n",
      "<p class=\"usa-banner__header-text\">\n",
      "            An official website of the United States government\n",
      "          </p>\n",
      "<p class=\"usa-banner__header-action\">Here’s how you know</p>\n",
      "</div>\n",
      "<button aria-controls=\"gov-banner-default-default\" aria-expanded=\"false\" class=\"usa-accordion__button usa-banner__button\" type=\"button\">\n",
      "<span class=\"usa-banner__button-text\">Here’s how you know</span>\n",
      "</button>\n",
      "</div>\n",
      "</header>\n",
      "<div class=\"usa-banner__content usa-accordion__content\" id=\"gov-banner-default-default\">\n",
      "<div class=\"grid-row grid-gap-lg\">\n",
      "<div class=\"usa-banner__guidance tablet:grid-col-6\">\n",
      "<img alt=\"\" aria-hidden=\"true\" class=\"usa-banner__icon usa-media-block__img\" role=\"img\" src=\"/assets/uswds/img/icon-dot-gov.svg\"/>\n",
      "<div class=\"usa-media-block__body\">\n",
      "<p>\n",
      "<strong>Official websites use .gov</strong><br/>A\n",
      "              <strong>.gov</strong> website belongs to an official government\n",
      "              organization in the United States.\n",
      "            </p>\n",
      "</div>\n",
      "</div>\n",
      "<div class=\"usa-banner__guidance tablet:grid-col-6\">\n",
      "<img alt=\"\" aria-hidden=\"true\" class=\"usa-banner__icon usa-media-block__img\" role=\"img\" src=\"/assets/uswds/img/icon-https.svg\"/>\n",
      "<div class=\"usa-media-block__body\">\n",
      "<p>\n",
      "<strong>Secure .gov websites use HTTPS</strong><br/>A\n",
      "              <strong>lock</strong> (\n",
      "              <span class=\"icon-lock\"><svg aria-labelledby=\"banner-lock-description-default\" class=\"usa-banner__lock-image\" focusable=\"false\" height=\"64\" role=\"img\" viewbox=\"0 0 52 64\" width=\"52\" xmlns=\"http://www.w3.org/2000/svg\">\n",
      "<title id=\"banner-lock-title-default\">Lock</title>\n",
      "<desc id=\"banner-lock-description-default\">\n",
      "                    Locked padlock icon\n",
      "                  </desc>\n",
      "<path d=\"M26 0c10.493 0 19 8.507 19 19v9h3a4 4 0 0 1 4 4v28a4 4 0 0 1-4 4H4a4 4 0 0 1-4-4V32a4 4 0 0 1 4-4h3v-9C7 8.507 15.507 0 26 0zm0 8c-5.979 0-10.843 4.77-10.996 10.712L15 19v9h22v-9c0-6.075-4.925-11-11-11z\" fill=\"#000000\" fill-rule=\"evenodd\"></path>\n",
      "</svg> </span>) or <strong>https://</strong> means you’ve safely connected to\n",
      "              the .gov website. Share sensitive information only on official,\n",
      "              secure websites.\n",
      "            </p>\n",
      "</div>\n",
      "</div>\n",
      "</div>\n",
      "</div>\n",
      "</div>\n",
      "</section>\n",
      "<header class=\"grid-row white bg-palette-color-1 padding-3\" id=\"analytics-header\">\n",
      "<h1 class=\"margin-top-0 margin-x-0 margin-bottom-1\">\n",
      "<img alt=\"Analytics Icon\" class=\"analytics\" src=\"/images/analytics.svg\"/>\n",
      "<a class=\"external-link\" href=\"/\"> <strong>analytics</strong>.usa.gov </a>\n",
      "</h1>\n",
      "<div id=\"site-search-form\">\n",
      "<form action=\"https://www.google.com/search\" class=\"usa-search usa-search--small\" method=\"get\" role=\"search\" target=\"_blank\">\n",
      "<label class=\"usa-sr-only\" for=\"search-field-en-small\">Search</label>\n",
      "<input class=\"usa-input\" id=\"search-field-en-small\" name=\"q\" placeholder=\"Search\" required=\"required\" type=\"search\"/>\n",
      "<input name=\"sitesearch\" type=\"hidden\" value=\"analytics.usa.gov\"/>\n",
      "<button class=\"usa-button\" type=\"submit\">\n",
      "<img alt=\"Search\" class=\"usa-search__submit-icon\" src=\"/assets/uswds/img/usa-icons-bg/search--white.svg\"/>\n",
      "</button>\n",
      "</form>\n",
      "</div>\n",
      "<nav class=\"links margin-top-1 desktop:padding-left-3 margin-bottom-0 padding-bottom-1\">\n",
      "<div class=\"grid-row\">\n",
      "<div class=\"grid-offset-2 grid-col-8\">\n",
      "<div class=\"grid-row\">\n",
      "<div class=\"grid-col-3 text-center\">\n",
      "<a href=\"/about\">About</a>\n",
      "</div>\n",
      "<div class=\"grid-col-1 text-right\">\n",
      "<span class=\"link-bullet link-bullet--hide\">•</span>\n",
      "</div>\n",
      "<div class=\"grid-col-5 text-center\">\n",
      "<a href=\"/definitions\">Definitions</a>\n",
      "</div>\n",
      "<div class=\"grid-col-1 text-left\">\n",
      "<span class=\"link-bullet link-bullet--hide\">•</span>\n",
      "</div>\n",
      "<div class=\"grid-col-2 text-center\">\n",
      "<a href=\"https://open.gsa.gov/api/dap/\" rel=\"noopener\" target=\"_blank\">API</a>\n",
      "</div>\n",
      "</div>\n",
      "</div>\n",
      "<div class=\"desktop:grid-offset-1 card:grid-col-12 desktop-lg:grid-col-11 widescreen:grid-col-10\">\n",
      "<div class=\"grid-row\">\n",
      "<div class=\"grid-col-5 text-right\">\n",
      "<a href=\"/visualizations\">Visualize Data</a>\n",
      "</div>\n",
      "<div class=\"grid-col-2 text-center\">\n",
      "<span class=\"link-bullet link-bullet--hide\">•</span>\n",
      "</div>\n",
      "<div class=\"card:grid-col-5 text-left\">\n",
      "<a href=\"/data\">Download Data</a>\n",
      "</div>\n",
      "</div>\n",
      "</div>\n",
      "</div>\n",
      "</nav>\n",
      "</header>\n",
      "<!--\n",
      "  The contents of this page are populated by react components. See\n",
      "  ./js/components/dashboard_content for the rendering logic.\n",
      "-->\n",
      "<main>\n",
      "<div class=\"grid-row padding-2 bg-very-light-gray\" id=\"analytics-subheader\">\n",
      "<!-- prettier-ignore -->\n",
      "<div agencies='[{\"name\":\"Agency for International Development\",\"slug\":\"agency-international-development\",\"redirect_from\":[\"usaid\"],\"api_v1\":true,\"_name\":\"Agency for International Development\"},{\"name\":\"American Battle Monuments Commission\",\"slug\":\"american-battle-monuments-commission\",\"redirect_from\":[\"abmc\"],\"api_v1\":false,\"_name\":\"American Battle Monuments Commission\"},{\"name\":\"AmeriCorps\",\"slug\":\"corporation-national-community-service\",\"redirect_from\":[\"cncs\"],\"api_v1\":false,\"_name\":\"AmeriCorps\"},{\"name\":\"Commodity Futures Trading Commission\",\"slug\":\"commodity-futures-trading-commission\",\"redirect_from\":[\"cftc\"],\"api_v1\":false,\"_name\":\"Commodity Futures Trading Commission\"},{\"name\":\"Consumer Financial Protection Bureau\",\"slug\":\"consumer-financial-protection-bureau\",\"redirect_from\":[\"cfpb\"],\"api_v1\":false,\"_name\":\"Consumer Financial Protection Bureau\"},{\"name\":\"Consumer Product Safety Commission\",\"slug\":\"consumer-product-safety-commission\",\"redirect_from\":[\"cpsc\"],\"api_v1\":false,\"_name\":\"Consumer Product Safety Commission\"},{\"name\":\"Defense Nuclear Facilities Safety Board\",\"slug\":\"defense-nuclear-facilities-safety-board\",\"redirect_from\":[\"dnfsb\"],\"api_v1\":false,\"_name\":\"Defense Nuclear Facilities Safety Board\"},{\"name\":\"Denali Commission\",\"slug\":\"denali-commission\",\"api_v1\":false,\"_name\":\"Denali Commission\"},{\"name\":\"Department of Agriculture\",\"slug\":\"agriculture\",\"redirect_from\":[\"usda\"],\"api_v1\":true,\"_name\":\"Department of Agriculture\"},{\"name\":\"Food and Nutrition Service\",\"slug\":\"food-nutrition-service\",\"redirect_from\":[\"fns\"],\"parent\":\"agriculture\",\"api_v1\":false,\"_name\":\"Food and Nutrition Service\"},{\"name\":\"Forest Service\",\"slug\":\"forest-service\",\"redirect_from\":[\"fs\"],\"parent\":\"agriculture\",\"api_v1\":false,\"_name\":\"Forest Service\"},{\"name\":\"Department of Commerce\",\"slug\":\"commerce\",\"redirect_from\":[\"doc\"],\"api_v1\":true,\"_name\":\"Department of Commerce\"},{\"name\":\"National Institute of Standards and Technology\",\"slug\":\"national-institute-standards-technology\",\"redirect_from\":[\"nist\"],\"parent\":\"commerce\",\"api_v1\":false,\"_name\":\"National Institute of Standards and Technology\"},{\"name\":\"National Oceanic and Atmospheric Administration\",\"slug\":\"national-oceanic-atmospheric-administration\",\"redirect_from\":[\"noaa\"],\"parent\":\"commerce\",\"api_v1\":false,\"_name\":\"National Oceanic and Atmospheric Administration\"},{\"name\":\"U.S. Patent and Trademark Office\",\"slug\":\"patent-trademark-office\",\"redirect_from\":[\"uspto\"],\"parent\":\"commerce\",\"api_v1\":false,\"_name\":\"U.S. Patent and Trademark Office\"},{\"name\":\"Department of Defense\",\"slug\":\"defense\",\"redirect_from\":[\"dod\"],\"api_v1\":true,\"_name\":\"Department of Defense\"},{\"name\":\"Defense Health Agency\",\"slug\":\"defense-health-agency\",\"redirect_from\":[\"dha\"],\"parent\":\"defense\",\"api_v1\":false,\"_name\":\"Defense Health Agency\"},{\"name\":\"Defense Logistics Agency\",\"slug\":\"defense-logistics-agency\",\"redirect_from\":[\"dla\"],\"parent\":\"defense\",\"api_v1\":false,\"_name\":\"Defense Logistics Agency\"},{\"name\":\"U.S. Air Force\",\"slug\":\"air-force\",\"redirect_from\":[\"usaf\"],\"parent\":\"defense\",\"api_v1\":false,\"_name\":\"U.S. Air Force\"},{\"name\":\"U.S. Army\",\"slug\":\"army\",\"parent\":\"defense\",\"api_v1\":false,\"_name\":\"U.S. Army\"},{\"name\":\"U.S. Army Corps of Engineers\",\"slug\":\"army-corps-of-engineers\",\"redirect_from\":[\"usace\"],\"parent\":\"defense\",\"api_v1\":false,\"_name\":\"U.S. Army Corps of Engineers\"},{\"name\":\"U.S. Marine Corps\",\"slug\":\"marines\",\"redirect_from\":[\"usmc\"],\"parent\":\"defense\",\"api_v1\":false,\"_name\":\"U.S. Marine Corps\"},{\"name\":\"U.S. Navy\",\"slug\":\"navy\",\"parent\":\"defense\",\"api_v1\":false,\"_name\":\"U.S. Navy\"},{\"name\":\"U.S. Space Force\",\"slug\":\"space-force\",\"redirect_from\":[\"ussf\"],\"parent\":\"defense\",\"api_v1\":false,\"_name\":\"U.S. Space Force\"},{\"name\":\"Department of Education\",\"slug\":\"education\",\"redirect_from\":[\"ed\"],\"api_v1\":true,\"_name\":\"Department of Education\"},{\"name\":\"Department of Energy\",\"slug\":\"energy\",\"redirect_from\":[\"doe\"],\"api_v1\":true,\"_name\":\"Department of Energy\"},{\"name\":\"Department of Health and Human Services\",\"slug\":\"health-human-services\",\"redirect_from\":[\"hhs\"],\"api_v1\":true,\"_name\":\"Department of Health and Human Services\"},{\"name\":\"Administration for Children and Families\",\"slug\":\"administration-children-families\",\"redirect_from\":[\"acf\"],\"parent\":\"health-human-services\",\"api_v1\":false,\"_name\":\"Administration for Children and Families\"},{\"name\":\"National Library of Medicine\",\"slug\":\"national-library-medicine\",\"redirect_from\":[\"nlm\"],\"parent\":\"health-human-services\",\"api_v1\":false,\"_name\":\"National Library of Medicine\"},{\"name\":\"U.S. Centers for Disease Control and Prevention\",\"slug\":\"center-disease-control\",\"redirect_from\":[\"cdc\"],\"parent\":\"health-human-services\",\"api_v1\":false,\"_name\":\"U.S. Centers for Disease Control and Prevention\"},{\"name\":\"U.S. Food and Drug Administration\",\"slug\":\"food-and-drug-administration\",\"redirect_from\":[\"fda\"],\"parent\":\"health-human-services\",\"api_v1\":false,\"_name\":\"U.S. Food and Drug Administration\"},{\"name\":\"Department of Homeland Security\",\"slug\":\"homeland-security\",\"redirect_from\":[\"dhs\"],\"api_v1\":true,\"_name\":\"Department of Homeland Security\"},{\"name\":\"Department of Housing and Urban Development\",\"slug\":\"housing-urban-development\",\"redirect_from\":[\"hud\"],\"api_v1\":true,\"_name\":\"Department of Housing and Urban Development\"},{\"name\":\"Department of the Interior\",\"slug\":\"interior\",\"redirect_from\":[\"doi\"],\"api_v1\":true,\"_name\":\"Department of the Interior\"},{\"name\":\"National Park Service\",\"slug\":\"national-park-service\",\"redirect_from\":[\"nps\"],\"parent\":\"interior\",\"api_v1\":false,\"_name\":\"National Park Service\"},{\"name\":\"U.S. Fish and Wildlife Service\",\"slug\":\"fish-and-wildlife-service\",\"redirect_from\":[\"fws\"],\"parent\":\"interior\",\"api_v1\":false,\"_name\":\"U.S. Fish and Wildlife Service\"},{\"name\":\"Department of Justice\",\"slug\":\"justice\",\"redirect_from\":[\"doj\"],\"api_v1\":true,\"_name\":\"Department of Justice\"},{\"name\":\"Federal Bureau of Investigation\",\"slug\":\"federal-bureau-investigation\",\"redirect_from\":[\"fbi\"],\"parent\":\"justice\",\"api_v1\":false,\"_name\":\"Federal Bureau of Investigation\"},{\"name\":\"Department of Labor\",\"slug\":\"labor\",\"redirect_from\":[\"dol\"],\"api_v1\":true,\"_name\":\"Department of Labor\"},{\"name\":\"Department of State\",\"slug\":\"state\",\"redirect_from\":[\"dos\"],\"api_v1\":true,\"_name\":\"Department of State\"},{\"name\":\"Department of Transportation\",\"slug\":\"transportation\",\"redirect_from\":[\"dot\"],\"api_v1\":true,\"_name\":\"Department of Transportation\"},{\"name\":\"Department of the Treasury\",\"slug\":\"treasury\",\"redirect_from\":[\"usdt\"],\"api_v1\":true,\"_name\":\"Department of the Treasury\"},{\"name\":\"Department of Veterans Affairs\",\"slug\":\"veterans-affairs\",\"redirect_from\":[\"va\"],\"api_v1\":true,\"_name\":\"Department of Veterans Affairs\"},{\"name\":\"Environmental Protection Agency\",\"slug\":\"environmental-protection-agency\",\"redirect_from\":[\"epa\"],\"api_v1\":true,\"_name\":\"Environmental Protection Agency\"},{\"name\":\"Equal Employment Opportunity Commission\",\"slug\":\"equal-employment-opportunity-commission\",\"redirect_from\":[\"eeoc\"],\"api_v1\":false,\"_name\":\"Equal Employment Opportunity Commission\"},{\"name\":\"Executive Office of the President\",\"slug\":\"executive-office-president\",\"redirect_from\":[\"omb\"],\"api_v1\":true,\"_name\":\"Executive Office of the President\"},{\"name\":\"Farm Credit Administration\",\"slug\":\"farm-credit-administration\",\"redirect_from\":[\"fca\"],\"api_v1\":false,\"_name\":\"Farm Credit Administration\"},{\"name\":\"Federal Deposit Insurance Corporation\",\"slug\":\"federal-deposit-insurance-corporation\",\"redirect_from\":[\"fdic\"],\"api_v1\":false,\"_name\":\"Federal Deposit Insurance Corporation\"},{\"name\":\"Federal Election Commission\",\"slug\":\"federal-election-commission\",\"redirect_from\":[\"fec\"],\"api_v1\":false,\"_name\":\"Federal Election Commission\"},{\"name\":\"Federal Energy Regulatory Commission\",\"slug\":\"federal-energy-regulatory-commission\",\"redirect_from\":[\"ferc\"],\"api_v1\":false,\"_name\":\"Federal Energy Regulatory Commission\"},{\"name\":\"Federal Housing Finance Agency\",\"slug\":\"federal-housing-finance-agency\",\"redirect_from\":[\"fhfa\"],\"api_v1\":false,\"_name\":\"Federal Housing Finance Agency\"},{\"name\":\"Federal Maritime Commission\",\"slug\":\"federal-maritime-commission\",\"redirect_from\":[\"fmc\"],\"api_v1\":false,\"_name\":\"Federal Maritime Commission\"},{\"name\":\"Federal Mine Safety and Health Review Commission\",\"slug\":\"federal-mine-safety-health-review-commission\",\"redirect_from\":[\"fmshrc\"],\"api_v1\":false,\"_name\":\"Federal Mine Safety and Health Review Commission\"},{\"name\":\"Federal Retirement Thrift Investment Board\",\"slug\":\"federal-retirement-thrift-investment-board\",\"redirect_from\":[\"frtib\"],\"api_v1\":false,\"_name\":\"Federal Retirement Thrift Investment Board\"},{\"name\":\"Federal Trade Commission\",\"slug\":\"federal-trade-commission\",\"redirect_from\":[\"ftc\"],\"api_v1\":false,\"_name\":\"Federal Trade Commission\"},{\"name\":\"General Services Administration\",\"slug\":\"general-services-administration\",\"redirect_from\":[\"gsa\"],\"api_v1\":true,\"_name\":\"General Services Administration\"},{\"name\":\"Inter-American Foundation\",\"slug\":\"inter-american-foundation\",\"redirect_from\":[\"iaf\"],\"api_v1\":false,\"_name\":\"Inter-American Foundation\"},{\"name\":\"International Development Finance Corporation\",\"slug\":\"international-development-finance-corporation\",\"redirect_from\":[\"dfc\"],\"api_v1\":false,\"_name\":\"International Development Finance Corporation\"},{\"name\":\"Merit Systems Protection Board\",\"slug\":\"merit-systems-protection-board\",\"redirect_from\":[\"mspb\"],\"api_v1\":false,\"_name\":\"Merit Systems Protection Board\"},{\"name\":\"Millennium Challenge Corporation\",\"slug\":\"millennium-challenge-corporation\",\"redirect_from\":[\"mcc\"],\"api_v1\":false,\"_name\":\"Millennium Challenge Corporation\"},{\"name\":\"National Aeronautics and Space Administration\",\"slug\":\"national-aeronautics-space-administration\",\"redirect_from\":[\"nasa\"],\"api_v1\":true,\"_name\":\"National Aeronautics and Space Administration\"},{\"name\":\"National Archives and Records Administration\",\"slug\":\"national-archives-records-administration\",\"redirect_from\":[\"nara\"],\"api_v1\":true,\"_name\":\"National Archives and Records Administration\"},{\"name\":\"National Capital Planning Commission\",\"slug\":\"national-capital-planning-commission\",\"redirect_from\":[\"ncpc\"],\"api_v1\":false,\"_name\":\"National Capital Planning Commission\"},{\"name\":\"National Council on Disability\",\"slug\":\"national-council-disability\",\"redirect_from\":[\"ncd\"],\"api_v1\":false,\"_name\":\"National Council on Disability\"},{\"name\":\"National Credit Union Administration\",\"slug\":\"national-credit-union-administration\",\"redirect_from\":[\"ncua\"],\"api_v1\":false,\"_name\":\"National Credit Union Administration\"},{\"name\":\"National Education Association\",\"slug\":\"national-education-association\",\"redirect_from\":[\"nea\"],\"api_v1\":false,\"_name\":\"National Education Association\"},{\"name\":\"National Endowment For The Humanities\",\"slug\":\"national-endowment-humanities\",\"redirect_from\":[\"neh\"],\"api_v1\":false,\"_name\":\"National Endowment For The Humanities\"},{\"name\":\"National Labor Relations Board\",\"slug\":\"national-labor-relations-board\",\"redirect_from\":[\"nlrb\"],\"api_v1\":false,\"_name\":\"National Labor Relations Board\"},{\"name\":\"National Mediation Board\",\"slug\":\"national-mediation-board\",\"redirect_from\":[\"nmb\"],\"api_v1\":false,\"_name\":\"National Mediation Board\"},{\"name\":\"National Reconnaissance Office\",\"slug\":\"national-reconnaissance-office\",\"redirect_from\":[\"nro\"],\"api_v1\":false,\"_name\":\"National Reconnaissance Office\"},{\"name\":\"National Science Foundation\",\"slug\":\"national-science-foundation\",\"redirect_from\":[\"nsf\"],\"api_v1\":true,\"_name\":\"National Science Foundation\"},{\"name\":\"National Transportation Safety Board\",\"slug\":\"national-transportation-safety-board\",\"redirect_from\":[\"ntsb\"],\"api_v1\":false,\"_name\":\"National Transportation Safety Board\"},{\"name\":\"Nuclear Regulatory Commission\",\"slug\":\"nuclear-regulatory-commission\",\"redirect_from\":[\"nrc\"],\"api_v1\":true,\"_name\":\"Nuclear Regulatory Commission\"},{\"name\":\"Nuclear Waste Technical Review Board\",\"slug\":\"nuclear-waste-technical-review-board\",\"redirect_from\":[\"nwtrb\"],\"api_v1\":false,\"_name\":\"Nuclear Waste Technical Review Board\"},{\"name\":\"Occupational Safety and Health Review Commission\",\"slug\":\"occupational-safety-health-commission\",\"redirect_from\":[\"oshrc\"],\"api_v1\":false,\"_name\":\"Occupational Safety and Health Review Commission\"},{\"name\":\"Office of the Director of National Intelligence\",\"slug\":\"office-director-national-intelligence\",\"redirect_from\":[\"odni\"],\"api_v1\":false,\"_name\":\"Office of the Director of National Intelligence\"},{\"name\":\"Office of Government Ethics\",\"slug\":\"office-government-ethics\",\"redirect_from\":[\"oge\"],\"api_v1\":false,\"_name\":\"Office of Government Ethics\"},{\"name\":\"Office of Navajo and Hopi Indian Relocation\",\"slug\":\"office-navajo-hopi-indian-relocation\",\"redirect_from\":[\"onhir\"],\"api_v1\":false,\"_name\":\"Office of Navajo and Hopi Indian Relocation\"},{\"name\":\"Office of Personnel Management\",\"slug\":\"office-personnel-management\",\"redirect_from\":[\"opm\"],\"api_v1\":true,\"_name\":\"Office of Personnel Management\"},{\"name\":\"Peace Corps\",\"slug\":\"peace-corps\",\"api_v1\":false,\"_name\":\"Peace Corps\"},{\"name\":\"Pension Benefit Guaranty Corporation\",\"slug\":\"pension-benefit-guaranty-corporation\",\"redirect_from\":[\"pbgc\"],\"api_v1\":false,\"_name\":\"Pension Benefit Guaranty Corporation\"},{\"name\":\"Postal Regulatory Commission\",\"slug\":\"postal-regulatory-commission\",\"redirect_from\":[\"prc\"],\"api_v1\":false,\"_name\":\"Postal Regulatory Commission\"},{\"name\":\"Privacy and Civil Liberties Oversight Board\",\"slug\":\"privacy-civil-liberties-oversight-board\",\"redirect_from\":[\"pclob\"],\"api_v1\":false,\"_name\":\"Privacy and Civil Liberties Oversight Board\"},{\"name\":\"Public Buildings Reform Board\",\"slug\":\"public-buildings-reform-board\",\"redirect_from\":[\"pbrb\"],\"api_v1\":false,\"_name\":\"Public Buildings Reform Board\"},{\"name\":\"Securities and Exchange Commission\",\"slug\":\"securities-exchange-commission\",\"redirect_from\":[\"sec\"],\"api_v1\":false,\"_name\":\"Securities and Exchange Commission\"},{\"name\":\"Small Business Administration\",\"slug\":\"small-business-administration\",\"redirect_from\":[\"sba\"],\"api_v1\":true,\"_name\":\"Small Business Administration\"},{\"name\":\"Social Security Administration\",\"slug\":\"social-security-administration\",\"redirect_from\":[\"ssa\"],\"api_v1\":true,\"_name\":\"Social Security Administration\"},{\"name\":\"Special Inspector General for Afghanistan Reconstruction\",\"slug\":\"special-inspector-general-afghanistan-restoration\",\"redirect_from\":[\"sigar\"],\"api_v1\":false,\"_name\":\"Special Inspector General for Afghanistan Reconstruction\"},{\"name\":\"Surface Transportation Board\",\"slug\":\"surface-transportation-board\",\"redirect_from\":[\"stb\"],\"api_v1\":false,\"_name\":\"Surface Transportation Board\"},{\"name\":\"Tennessee Valley Authority\",\"slug\":\"tennessee-valley-authority\",\"redirect_from\":[\"tva\"],\"api_v1\":false,\"_name\":\"Tennessee Valley Authority\"},{\"name\":\"Udall Foundation\",\"slug\":\"udall-foundation\",\"api_v1\":false,\"_name\":\"Udall Foundation\"},{\"name\":\"U.S. Access Board\",\"slug\":\"access-board\",\"api_v1\":false,\"_name\":\"U.S. Access Board\"},{\"name\":\"U.S. Agency for Global Media\",\"slug\":\"agency-global-media\",\"redirect_from\":[\"usagm\"],\"api_v1\":false,\"_name\":\"U.S. Agency for Global Media\"},{\"name\":\"U.S. Commission on Civil Rights\",\"slug\":\"commission-civil-rights\",\"redirect_from\":[\"usccr\"],\"api_v1\":false,\"_name\":\"U.S. Commission on Civil Rights\"},{\"name\":\"U.S. Courts\",\"slug\":\"us-courts\",\"api_v1\":false,\"_name\":\"U.S. Courts\"},{\"name\":\"U.S. International Trade Commission\",\"slug\":\"international-trade-commission\",\"redirect_from\":[\"usitc\"],\"api_v1\":false,\"_name\":\"U.S. International Trade Commission\"},{\"name\":\"U.S. Office of Special Counsel\",\"slug\":\"osc\",\"redirect_from\":[\"osc\"],\"api_v1\":false,\"_name\":\"U.S. Office of Special Counsel\"},{\"name\":\"U.S. Postal Inspection Service\",\"slug\":\"postal-inspection-service\",\"redirect_from\":[\"uspis\"],\"api_v1\":false,\"_name\":\"U.S. Postal Inspection Service\"},{\"name\":\"U.S. Postal Service\",\"slug\":\"postal-service\",\"redirect_from\":[\"usps\"],\"api_v1\":true,\"_name\":\"U.S. Postal Service\"},{\"name\":\"U.S. Railroad Retirement Board\",\"slug\":\"railroad-retirement-board\",\"redirect_from\":[\"rrb\"],\"api_v1\":false,\"_name\":\"U.S. Railroad Retirement Board\"},{\"name\":\"U.S. Trade and Development Agency\",\"slug\":\"trade-development-agency\",\"redirect_from\":[\"ustda\"],\"api_v1\":false,\"_name\":\"U.S. Trade and Development Agency\"}]' class=\"analytics-select analytics-select--main\" id=\"analytics-agency-select-root\" mainagencyname=\"Government-Wide\"></div>\n",
      "</div>\n",
      "<div agency=\"\" class=\"padding-2\" dataprefix=\"live\" dataurl=\"https://analytics.usa.gov/data\" id=\"dashboard-content-root\"></div>\n",
      "<section class=\"grid-row\">\n",
      "<div class=\"grid-col-12\" id=\"touchpoints-page-helpful-survey-root\"></div>\n",
      "<div class=\"card:grid-offset-2 card:grid-col-8 mobile-lg:grid-offset-3 mobile-lg:grid-col-6 desktop:grid-offset-5 desktop:grid-col-2 margin-bottom-2\">\n",
      "<div dataurl=\"https://analytics.usa.gov/data\" id=\"page-helpful-survey-score-root\"></div>\n",
      "<div class=\"text-normal font-sans-lg text-center\">\n",
      "<p class=\"margin-y-1\">Customer feedback</p>\n",
      "<p class=\"margin-0\">over the last 30 days</p>\n",
      "</div>\n",
      "</div>\n",
      "</section>\n",
      "</main>\n",
      "<div id=\"footer-root\" sitedomain=\"\"></div>\n",
      "</body>\n",
      "<script async=\"\" src=\"/assets/uswds/js/uswds.min.js\" type=\"text/javascript\"></script>\n",
      "<script async=\"\" src=\"/assets/bundle.js\" type=\"text/javascript\"></script>\n",
      "<script async=\"\" id=\"_fed_an_ua_tag\" src=\"https://dap.digitalgov.gov/Universal-Federated-Analytics-Min.js?agency=GSA\" type=\"text/javascript\"></script>\n",
      "</html>\n",
      ">\n"
     ]
    }
   ],
   "source": [
    "print(soup.get_text)"
   ]
  },
  {
   "cell_type": "code",
   "execution_count": 6,
   "id": "6b7fa26d",
   "metadata": {},
   "outputs": [
    {
     "name": "stdout",
     "output_type": "stream",
     "text": [
      "<!DOCTYPE html>\n",
      "<html lang=\"en\">\n",
      " <!-- Initalize title and data source variables -->\n",
      " <head>\n",
      "  <!--\n",
      "\n",
      "    Hi! Welcome to our source code.\n",
      "\n",
      "    This dashboard uses data from the Digital Analytics Program, a US\n",
      "    government team inside the General Services Administration.\n",
      "\n",
      "\n",
      "    For a detailed tech breakdown of how 18F and friends built this site:\n",
      "\n",
      "    https://18f.gsa.gov/2015/03/19/how-we-built-analytics-usa-gov/\n",
      "\n",
      "\n",
      "    This is a fully open source project, and your contributions are welcome.\n",
      "\n",
      "    Frontend static site: https://github.com/18F/analytics.usa.gov\n",
      "    Backend data reporting: https://github.com/18F/analytics-reporter\n",
      "\n",
      "    -->\n",
      "  <meta charset=\"utf-8\"/>\n",
      "  <meta content=\"width=device-width, initial-scale=1\" name=\"viewport\"/>\n",
      "  <meta content=\"IE=Edge\" http-equiv=\"X-UA-Compatible\"/>\n",
      "  <meta content=\"3M4CQMJIt6qoilByli-rZfUFU6ET-No8gF12dAQFPfc\" name=\"google-site-verification\"/>\n",
      "  <link href=\"/css/styles.css\" rel=\"stylesheet\"/>\n",
      "  <link href=\"/images/analytics-favicon.ico\" rel=\"icon\" t\n"
     ]
    }
   ],
   "source": [
    "print(soup.prettify()[0:1000])"
   ]
  },
  {
   "cell_type": "code",
   "execution_count": 9,
   "id": "1ac728e6",
   "metadata": {},
   "outputs": [
    {
     "name": "stdout",
     "output_type": "stream",
     "text": [
      "<a href=\"https://open.gsa.gov/api/dap/\" rel=\"noopener\" target=\"_blank\">API</a>\n"
     ]
    }
   ],
   "source": [
    "for link in soup.find_all('a',attrs = {'href':re.compile('^http')}):\n",
    "                    print(link)\n"
   ]
  },
  {
   "cell_type": "code",
   "execution_count": 10,
   "id": "08cff1a2",
   "metadata": {},
   "outputs": [
    {
     "data": {
      "text/plain": [
       "bs4.element.Tag"
      ]
     },
     "execution_count": 10,
     "metadata": {},
     "output_type": "execute_result"
    }
   ],
   "source": [
    "type(link)"
   ]
  },
  {
   "cell_type": "code",
   "execution_count": 11,
   "id": "c4dccb52",
   "metadata": {},
   "outputs": [
    {
     "name": "stdout",
     "output_type": "stream",
     "text": [
      "<a href=\"https://open.gsa.gov/api/dap/\" rel=\"noopener\" target=\"_blank\">API</a>\n"
     ]
    }
   ],
   "source": [
    "file = open('parsen_data.txt','w')\n",
    "for link in soup.find_all('a',attrs = {'href':re.compile('^http')}):\n",
    "                    soup_link = str(link)\n",
    "                    print(soup_link)\n",
    "                    file.write(soup_link)\n",
    "file.flush()\n",
    "file.close()\n"
   ]
  },
  {
   "cell_type": "code",
   "execution_count": 12,
   "id": "25500d4e",
   "metadata": {},
   "outputs": [
    {
     "data": {
      "text/plain": [
       "'c:\\\\Users\\\\DELL\\\\Desktop\\\\Numpy'"
      ]
     },
     "execution_count": 12,
     "metadata": {},
     "output_type": "execute_result"
    }
   ],
   "source": [
    "%pwd"
   ]
  }
 ],
 "metadata": {
  "kernelspec": {
   "display_name": ".venv",
   "language": "python",
   "name": "python3"
  },
  "language_info": {
   "codemirror_mode": {
    "name": "ipython",
    "version": 3
   },
   "file_extension": ".py",
   "mimetype": "text/x-python",
   "name": "python",
   "nbconvert_exporter": "python",
   "pygments_lexer": "ipython3",
   "version": "3.13.2"
  }
 },
 "nbformat": 4,
 "nbformat_minor": 5
}
